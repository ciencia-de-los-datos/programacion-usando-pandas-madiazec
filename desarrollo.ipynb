{
 "cells": [
  {
   "cell_type": "code",
   "execution_count": 1,
   "metadata": {},
   "outputs": [],
   "source": [
    "import pandas as pd\n",
    "\n",
    "tbl0 = pd.read_csv(\"tbl0.tsv\", sep=\"\\t\")\n",
    "tbl1 = pd.read_csv(\"tbl1.tsv\", sep=\"\\t\")\n",
    "tbl2 = pd.read_csv(\"tbl2.tsv\", sep=\"\\t\")"
   ]
  },
  {
   "cell_type": "code",
   "execution_count": 7,
   "metadata": {},
   "outputs": [
    {
     "data": {
      "text/plain": [
       "0     E\n",
       "1     A\n",
       "2     B\n",
       "3     A\n",
       "4     C\n",
       "5     A\n",
       "6     A\n",
       "7     B\n",
       "8     E\n",
       "9     B\n",
       "10    C\n",
       "11    C\n",
       "12    D\n",
       "13    E\n",
       "14    B\n",
       "15    D\n",
       "16    E\n",
       "17    D\n",
       "18    E\n",
       "19    E\n",
       "20    E\n",
       "21    E\n",
       "22    D\n",
       "23    A\n",
       "24    E\n",
       "25    E\n",
       "26    A\n",
       "27    E\n",
       "28    A\n",
       "29    C\n",
       "30    A\n",
       "31    D\n",
       "32    E\n",
       "33    B\n",
       "34    B\n",
       "35    D\n",
       "36    B\n",
       "37    C\n",
       "38    E\n",
       "39    E\n",
       "Name: _c1, dtype: object"
      ]
     },
     "execution_count": 7,
     "metadata": {},
     "output_type": "execute_result"
    }
   ],
   "source": [
    "tbl0['_c1']"
   ]
  },
  {
   "cell_type": "code",
   "execution_count": 18,
   "metadata": {},
   "outputs": [
    {
     "data": {
      "text/plain": [
       "A     8\n",
       "B     7\n",
       "C     5\n",
       "D     6\n",
       "E    14\n",
       "Name: _c1, dtype: int64"
      ]
     },
     "execution_count": 18,
     "metadata": {},
     "output_type": "execute_result"
    }
   ],
   "source": [
    "rta = tbl0['_c1'].value_counts().sort_index()\n",
    "rta"
   ]
  },
  {
   "cell_type": "code",
   "execution_count": 23,
   "metadata": {},
   "outputs": [
    {
     "data": {
      "text/plain": [
       "_c1\n",
       "A    9\n",
       "B    9\n",
       "C    9\n",
       "D    7\n",
       "E    9\n",
       "Name: _c2, dtype: int64"
      ]
     },
     "execution_count": 23,
     "metadata": {},
     "output_type": "execute_result"
    }
   ],
   "source": [
    "rta = tbl0.groupby('_c1')['_c2'].max()\n",
    "rta"
   ]
  },
  {
   "cell_type": "code",
   "execution_count": 40,
   "metadata": {},
   "outputs": [
    {
     "data": {
      "text/plain": [
       "['A', 'B', 'C', 'D', 'E', 'F', 'G']"
      ]
     },
     "execution_count": 40,
     "metadata": {},
     "output_type": "execute_result"
    }
   ],
   "source": [
    "unicos = tbl1['_c4'].str.upper().unique()\n",
    "unicos.sort()\n",
    "list(unicos)"
   ]
  },
  {
   "cell_type": "code",
   "execution_count": null,
   "metadata": {},
   "outputs": [],
   "source": []
  }
 ],
 "metadata": {
  "kernelspec": {
   "display_name": "Python 3.10.7 64-bit (microsoft store)",
   "language": "python",
   "name": "python3"
  },
  "language_info": {
   "codemirror_mode": {
    "name": "ipython",
    "version": 3
   },
   "file_extension": ".py",
   "mimetype": "text/x-python",
   "name": "python",
   "nbconvert_exporter": "python",
   "pygments_lexer": "ipython3",
   "version": "3.10.7"
  },
  "orig_nbformat": 4,
  "vscode": {
   "interpreter": {
    "hash": "38d818ff7c33ea23b57eb3e86ad9be6bdb2dae7c6185b936c0cbc4382009620f"
   }
  }
 },
 "nbformat": 4,
 "nbformat_minor": 2
}
